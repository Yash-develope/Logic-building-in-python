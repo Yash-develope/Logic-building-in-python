{
 "cells": [
  {
   "cell_type": "code",
   "execution_count": 7,
   "id": "91153fec",
   "metadata": {},
   "outputs": [
    {
     "name": "stdout",
     "output_type": "stream",
     "text": [
      "Enter the Number of Rows and Coloumns :4\n",
      "1 2 3 4 \n",
      "1 2 3 4 \n",
      "1 2 3 4 \n",
      "1 2 3 4 \n"
     ]
    }
   ],
   "source": [
    "n=int(input(\"Enter the Number of Rows and Coloumns :\"))\n",
    "for i in range(1,n+1):\n",
    "    for j in range(1,n+1):\n",
    "        print(j,end=' ')\n",
    "    print()"
   ]
  },
  {
   "cell_type": "code",
   "execution_count": 6,
   "id": "d5494a0f",
   "metadata": {},
   "outputs": [
    {
     "name": "stdout",
     "output_type": "stream",
     "text": [
      "Enter the Number of Rows and Coloumns :3\n",
      "1 2 3 \n",
      "1 2 3 \n",
      "1 2 3 \n"
     ]
    }
   ],
   "source": [
    "n=int(input(\"Enter the Number of Rows and Coloumns :\"))\n",
    "rows=1\n",
    "while rows < n+1:\n",
    "    col=1\n",
    "    rows+=1\n",
    "    while col < n+1:\n",
    "        print(col,end=' ')\n",
    "        col+=1\n",
    "    print()"
   ]
  },
  {
   "cell_type": "code",
   "execution_count": 8,
   "id": "c8d85fb6",
   "metadata": {},
   "outputs": [
    {
     "name": "stdout",
     "output_type": "stream",
     "text": [
      "Enter the Number of Rows and Coloumns :4\n",
      "4 3 2 1 \n",
      "4 3 2 1 \n",
      "4 3 2 1 \n",
      "4 3 2 1 \n"
     ]
    }
   ],
   "source": [
    "n=int(input(\"Enter the Number of Rows and Coloumns :\"))\n",
    "for i in range(1,n+1):\n",
    "    for j in range(1,n+1):\n",
    "        print(n-j+1,end=' ')\n",
    "    print()"
   ]
  },
  {
   "cell_type": "code",
   "execution_count": 12,
   "id": "50960ca0",
   "metadata": {},
   "outputs": [
    {
     "name": "stdout",
     "output_type": "stream",
     "text": [
      "Enter the Number of Rows and Coloumns :4\n",
      "4 3 2 1 \n",
      "4 3 2 1 \n",
      "4 3 2 1 \n",
      "4 3 2 1 \n"
     ]
    }
   ],
   "source": [
    "n=int(input(\"Enter the Number of Rows and Coloumns :\"))\n",
    "rows=1\n",
    "while rows < n+1:\n",
    "    col=1\n",
    "    rows+=1\n",
    "    while col < n+1:\n",
    "        print(n-col+1,end=' ')\n",
    "        col+=1\n",
    "    print()"
   ]
  },
  {
   "cell_type": "code",
   "execution_count": 19,
   "id": "74d39872",
   "metadata": {},
   "outputs": [
    {
     "name": "stdout",
     "output_type": "stream",
     "text": [
      "Enter the Number of Rows and Coloumns :3\n",
      "1 2 3 \n",
      "4 5 6 \n",
      "7 8 9 \n"
     ]
    }
   ],
   "source": [
    "n=int(input(\"Enter the Number of Rows and Coloumns :\"))\n",
    "nums=1\n",
    "for i in range(1,n+1):\n",
    "    for j in range(1,n+1):\n",
    "        print(nums,end=' ')\n",
    "        nums+=1\n",
    "    print()"
   ]
  },
  {
   "cell_type": "code",
   "execution_count": 35,
   "id": "02a66641",
   "metadata": {},
   "outputs": [
    {
     "name": "stdout",
     "output_type": "stream",
     "text": [
      "Enter the Number of Rows and Coloumns3\n",
      "9 8 7 \n",
      "6 5 4 \n",
      "3 2 1 \n"
     ]
    }
   ],
   "source": [
    "n=int(input(\"Enter the Number of Rows and Coloumns\"))\n",
    "nums=n*n\n",
    "rows=1\n",
    "while rows < n+1:\n",
    "    col=1\n",
    "    rows+=1\n",
    "    while col < n+1:\n",
    "        print(nums,end=' ')\n",
    "        col+=1\n",
    "        nums-=1\n",
    "    print()\n"
   ]
  },
  {
   "cell_type": "code",
   "execution_count": 36,
   "id": "933723b4",
   "metadata": {},
   "outputs": [
    {
     "name": "stdout",
     "output_type": "stream",
     "text": [
      "Enter the Number for Rows and Coloumns :4\n",
      "* \n",
      "* * \n",
      "* * * \n",
      "* * * * \n"
     ]
    }
   ],
   "source": [
    "n=int(input(\"Enter the Number for Rows and Coloumns :\"))\n",
    "for rows in range(1,n+1):\n",
    "    for col in range(rows):\n",
    "        print('*',end=' ')\n",
    "    print()"
   ]
  },
  {
   "cell_type": "code",
   "execution_count": 42,
   "id": "8258f007",
   "metadata": {},
   "outputs": [
    {
     "name": "stdout",
     "output_type": "stream",
     "text": [
      "Enter the Number for Rows and Coloumns :16\n",
      "* \n",
      "* * \n",
      "* * * \n",
      "* * * * \n",
      "* * * * * \n",
      "* * * * * * \n",
      "* * * * * * * \n",
      "* * * * * * * * \n",
      "* * * * * * * * * \n",
      "* * * * * * * * * * \n",
      "* * * * * * * * * * * \n",
      "* * * * * * * * * * * * \n",
      "* * * * * * * * * * * * * \n",
      "* * * * * * * * * * * * * * \n",
      "* * * * * * * * * * * * * * * \n",
      "* * * * * * * * * * * * * * * * \n"
     ]
    }
   ],
   "source": [
    "n=int(input(\"Enter the Number for Rows and Coloumns :\"))\n",
    "rows=1\n",
    "while rows < n+1:\n",
    "    col=1\n",
    "    rows+=1\n",
    "    while col < rows:\n",
    "        print('*',end=' ')\n",
    "        col+=1\n",
    "    print()\n",
    "    \n",
    "    "
   ]
  },
  {
   "cell_type": "code",
   "execution_count": 48,
   "id": "cc98fd72",
   "metadata": {},
   "outputs": [
    {
     "name": "stdout",
     "output_type": "stream",
     "text": [
      "Enter the Number for rows and Coloumns :4\n",
      "1 \n",
      "2 2 \n",
      "3 3 3 \n",
      "4 4 4 4 \n"
     ]
    }
   ],
   "source": [
    "n=int(input(\"Enter the Number for rows and Coloumns :\"))\n",
    "for rows in range(1,n+1):\n",
    "    for col in range(1,rows+1):\n",
    "        print(rows,end=' ')\n",
    "    print()\n",
    "        "
   ]
  },
  {
   "cell_type": "code",
   "execution_count": 52,
   "id": "44743945",
   "metadata": {},
   "outputs": [
    {
     "name": "stdout",
     "output_type": "stream",
     "text": [
      "Enter the Number for Rows and Coloumns :4\n",
      "1 \n",
      "2 2 \n",
      "3 3 3 \n",
      "4 4 4 4 \n"
     ]
    }
   ],
   "source": [
    "n=int(input(\"Enter the Number for Rows and Coloumns :\"))\n",
    "rows=1\n",
    "while rows < n+1:\n",
    "    col=1\n",
    "    while col < rows+1:\n",
    "        print(rows,end=' ')\n",
    "        col+=1\n",
    "    rows+=1\n",
    "    print()\n",
    "    \n"
   ]
  },
  {
   "cell_type": "code",
   "execution_count": 55,
   "id": "9be7280a",
   "metadata": {},
   "outputs": [
    {
     "name": "stdout",
     "output_type": "stream",
     "text": [
      "Enter the Number for Rows and COloumns :4\n",
      "1 \n",
      "2 3 \n",
      "4 5 6 \n",
      "7 8 9 10 \n"
     ]
    }
   ],
   "source": [
    "n=int(input(\"Enter the Number for Rows and COloumns :\"))\n",
    "nums=1\n",
    "for  rows in range(1,n+1):\n",
    "    for col in range(rows):\n",
    "        print(nums,end=' ')\n",
    "        nums+=1\n",
    "    print()"
   ]
  },
  {
   "cell_type": "code",
   "execution_count": 58,
   "id": "9618e191",
   "metadata": {},
   "outputs": [
    {
     "name": "stdout",
     "output_type": "stream",
     "text": [
      "Enter the Number for rows and coloumns :4\n",
      "1 \n",
      "2 3 \n",
      "4 5 6 \n",
      "7 8 9 10 \n"
     ]
    }
   ],
   "source": [
    "n=int(input(\"Enter the Number for rows and coloumns :\"))\n",
    "nums=1\n",
    "rows=1\n",
    "while rows < n+1:\n",
    "    col=1\n",
    "    rows+=1\n",
    "    while col < rows:\n",
    "        print(nums,end=' ')\n",
    "        col+=1\n",
    "        nums+=1\n",
    "    print()"
   ]
  },
  {
   "cell_type": "code",
   "execution_count": 82,
   "id": "83d53b7a",
   "metadata": {},
   "outputs": [
    {
     "name": "stdout",
     "output_type": "stream",
     "text": [
      "Enter the Number of Rows and Coloumns :4\n",
      "1 \n",
      "2 3 \n",
      "3 4 5 \n",
      "4 5 6 7 \n"
     ]
    }
   ],
   "source": [
    "n=int(input(\"Enter the Number of Rows and Coloumns :\"))\n",
    "for rows in range(1,n+1):\n",
    "    values=rows\n",
    "    for col in range(1,rows+1):\n",
    "        print(values,end=' ')\n",
    "        values+=1\n",
    "    print()\n"
   ]
  },
  {
   "cell_type": "code",
   "execution_count": 83,
   "id": "f1807d55",
   "metadata": {},
   "outputs": [
    {
     "name": "stdout",
     "output_type": "stream",
     "text": [
      "Enter the INput for the Rows and COLOumns :4\n",
      "1 \n",
      "2 3 \n",
      "3 4 5 \n",
      "4 5 6 7 \n"
     ]
    }
   ],
   "source": [
    "n=int(input(\"Enter the INput for the Rows and COLOumns :\"))\n",
    "rows=1\n",
    "while rows <= n:\n",
    "    col=1\n",
    "    values=rows\n",
    "    while col <= rows:\n",
    "        print(values,end=' ')\n",
    "        values+=1\n",
    "        col+=1\n",
    "    print()\n",
    "    rows+=1"
   ]
  },
  {
   "cell_type": "code",
   "execution_count": 89,
   "id": "0a148a51",
   "metadata": {},
   "outputs": [
    {
     "name": "stdout",
     "output_type": "stream",
     "text": [
      "Enter the Number for Rows and COloumns :4\n",
      "1 \n",
      "2 3 \n",
      "3 4 5 \n",
      "4 5 6 7 \n"
     ]
    },
    {
     "data": {
      "text/plain": [
       "'\\n#Second approach for this out \\n1 \\n2 3 \\n3 4 5 \\n4 5 6 7 '"
      ]
     },
     "execution_count": 89,
     "metadata": {},
     "output_type": "execute_result"
    }
   ],
   "source": [
    "n=int(input(\"Enter the Number for Rows and COloumns :\"))\n",
    "for rows in range(1,n+1):\n",
    "    for col in range(1,rows+1):\n",
    "        print(rows+col-1,end=' ')\n",
    "    print()\n",
    "'''\n",
    "#Second approach for this out \n",
    "1 \n",
    "2 3 \n",
    "3 4 5 \n",
    "4 5 6 7 '''"
   ]
  },
  {
   "cell_type": "code",
   "execution_count": 102,
   "id": "1c51e3e0",
   "metadata": {},
   "outputs": [
    {
     "name": "stdout",
     "output_type": "stream",
     "text": [
      "Enter the Number for Rows and Coloumns :4\n",
      "1 \n",
      "2 1 \n",
      "3 2 1 \n",
      "4 3 2 1 \n"
     ]
    }
   ],
   "source": [
    "n=int(input(\"Enter the Number for Rows and Coloumns :\"))\n",
    "for rows in range(1,n+1):\n",
    "    for col in range(1,rows+1):\n",
    "        print(rows-col+1,end=' ')\n",
    "    print()"
   ]
  },
  {
   "cell_type": "code",
   "execution_count": 111,
   "id": "c89c2728",
   "metadata": {},
   "outputs": [
    {
     "name": "stdout",
     "output_type": "stream",
     "text": [
      "Enter the NUmber for Rows and COloumns :4\n",
      "1 \n",
      "1 2 \n",
      "1 2 3 \n",
      "1 2 3 4 \n"
     ]
    }
   ],
   "source": [
    "n=int(input(\"Enter the NUmber for Rows and COloumns :\"))\n",
    "rows=1\n",
    "while rows <= n:\n",
    "    values=1\n",
    "    col=1\n",
    "    while col <= rows:\n",
    "        print(values,end=' ')\n",
    "        col+=1\n",
    "        values+=1\n",
    "    print()\n",
    "    rows+=1"
   ]
  },
  {
   "cell_type": "code",
   "execution_count": 30,
   "id": "eea067b5",
   "metadata": {},
   "outputs": [
    {
     "name": "stdout",
     "output_type": "stream",
     "text": [
      "Enter the matrix size: 5\n",
      "A A A A A \n",
      "B B B B B \n",
      "C C C C C \n",
      "D D D D D \n",
      "E E E E E \n"
     ]
    }
   ],
   "source": [
    "n = int(input(\"Enter the matrix size: \"))\n",
    "row = 1\n",
    "while row <= n:\n",
    "    col = 1\n",
    "    nums='A'\n",
    "    while col <= n:\n",
    "        print(chr(ord(nums) + row - 1), end=' ')\n",
    "        col += 1\n",
    "    print()\n",
    "    row += 1\n"
   ]
  },
  {
   "cell_type": "code",
   "execution_count": 35,
   "id": "d2d36032",
   "metadata": {},
   "outputs": [
    {
     "name": "stdout",
     "output_type": "stream",
     "text": [
      "Enter the Matrix Size :4\n",
      "A B C D \n",
      "A B C D \n",
      "A B C D \n",
      "A B C D \n"
     ]
    }
   ],
   "source": [
    "n=int(input(\"Enter the Matrix Size :\"))\n",
    "for i in range(1,n+1):\n",
    "    nums='A'\n",
    "    for j in range(1,n+1):\n",
    "        print(chr(ord(nums) + j - 1),end=' ')\n",
    "    print()"
   ]
  },
  {
   "cell_type": "code",
   "execution_count": 77,
   "id": "f8d9f48f",
   "metadata": {},
   "outputs": [
    {
     "name": "stdout",
     "output_type": "stream",
     "text": [
      "Enter the Matrix Number :3\n",
      "A B C \n",
      "A B C \n",
      "A B C \n"
     ]
    }
   ],
   "source": [
    "n=int(input(\"Enter the Matrix Number :\"))\n",
    "rows = 1\n",
    "nums='A'\n",
    "while rows <= n:\n",
    "    col = 1\n",
    "    while col <= n:\n",
    "        print(chr(ord(nums)+col-1),end=' ')\n",
    "        col += 1\n",
    "    print()\n",
    "    rows+=1"
   ]
  },
  {
   "cell_type": "markdown",
   "id": "cbc2c448",
   "metadata": {},
   "source": [
    "### "
   ]
  },
  {
   "cell_type": "code",
   "execution_count": 93,
   "id": "a387fc13",
   "metadata": {},
   "outputs": [
    {
     "name": "stdout",
     "output_type": "stream",
     "text": [
      "Enter the Number for the Matrix :3\n",
      "A B C \n",
      "B C D \n",
      "C D E \n"
     ]
    }
   ],
   "source": [
    "n=int(input(\"Enter the Number for the Matrix :\"))\n",
    "rows=1\n",
    "nums='A'\n",
    "while rows <= n:\n",
    "    col = 1\n",
    "    while col <= n:\n",
    "        print(chr(ord(nums)+ rows+col-2),end=' ')\n",
    "        col+= 1\n",
    "    print()\n",
    "    rows+=1\n",
    "    "
   ]
  },
  {
   "cell_type": "code",
   "execution_count": 87,
   "id": "4c6ed740",
   "metadata": {},
   "outputs": [
    {
     "name": "stdout",
     "output_type": "stream",
     "text": [
      "Enter the Number for the Matrix :3\n",
      "1 2 3 \n",
      "4 5 6 \n",
      "7 8 9 \n"
     ]
    }
   ],
   "source": [
    "n=int(input(\"Enter the Number for the Matrix :\"))\n",
    "rows=1\n",
    "nums=1\n",
    "while rows <= n:\n",
    "    col=1\n",
    "    while col <= n:\n",
    "        print(nums+col -1,end=' ')\n",
    "        col+=1\n",
    "    print()\n",
    "    nums+=col-1\n",
    "    rows += 1"
   ]
  },
  {
   "cell_type": "code",
   "execution_count": 102,
   "id": "610b7f36",
   "metadata": {},
   "outputs": [
    {
     "name": "stdout",
     "output_type": "stream",
     "text": [
      "Enter the Number for the Matrix :3\n",
      "A B C \n",
      "D E F \n",
      "G H I \n"
     ]
    }
   ],
   "source": [
    "n=int(input(\"Enter the Number for the Matrix :\"))\n",
    "rows=1\n",
    "nums=ord('A')\n",
    "while rows <= n:\n",
    "    col=1\n",
    "    while col <= n:\n",
    "        print(chr(nums+col-1),end=' ')\n",
    "        col+=1\n",
    "    print()\n",
    "    nums += col-1\n",
    "    rows += 1"
   ]
  },
  {
   "cell_type": "code",
   "execution_count": 109,
   "id": "5a24a5e8",
   "metadata": {},
   "outputs": [
    {
     "name": "stdout",
     "output_type": "stream",
     "text": [
      "Enter the Matrix :3\n",
      "A B C \n",
      "B C D \n",
      "C D E \n"
     ]
    }
   ],
   "source": [
    "n=int(input(\"Enter the Matrix :\"))\n",
    "rows=1\n",
    "nums=ord('A')\n",
    "while rows <= n:\n",
    "    col =1\n",
    "    while col <= n:\n",
    "        print(chr(nums + rows + col -2),end=' ')\n",
    "        col+=1\n",
    "    print()\n",
    "    rows += 1"
   ]
  },
  {
   "cell_type": "code",
   "execution_count": 115,
   "id": "1e96877d",
   "metadata": {},
   "outputs": [
    {
     "name": "stdout",
     "output_type": "stream",
     "text": [
      "Enter the matrix :3\n",
      "A \n",
      "B B \n",
      "C C C \n"
     ]
    }
   ],
   "source": [
    "n=int(input(\"Enter the matrix :\"))\n",
    "nums=ord('A')\n",
    "for i in range(1,n+1):\n",
    "    for j in range(1,i+1):\n",
    "        print(chr(nums),end=' ')\n",
    "    print()\n",
    "    nums+=1"
   ]
  },
  {
   "cell_type": "code",
   "execution_count": 114,
   "id": "cfb8ee31",
   "metadata": {},
   "outputs": [
    {
     "name": "stdout",
     "output_type": "stream",
     "text": [
      "Enter the Number for the matrix :4\n",
      "A \n",
      "B C \n",
      "D E F \n",
      "G H I J \n"
     ]
    }
   ],
   "source": [
    "n=int(input(\"Enter the Number for the matrix :\"))\n",
    "nums=ord('A')\n",
    "rows=1\n",
    "while rows <= n:\n",
    "    col=1\n",
    "    while col <= rows:\n",
    "        print(chr(nums),end=' ')\n",
    "        col+=1\n",
    "        nums+=1\n",
    "    print()\n",
    "    rows+=1"
   ]
  },
  {
   "cell_type": "code",
   "execution_count": 131,
   "id": "cd2a101a",
   "metadata": {},
   "outputs": [
    {
     "name": "stdout",
     "output_type": "stream",
     "text": [
      "Enter the Number for Rows and Coloumns :3\n",
      "A \n",
      "B C \n",
      "C D E \n"
     ]
    }
   ],
   "source": [
    "n=int(input(\"Enter the Number for Rows and Coloumns :\"))\n",
    "nums=ord('A')\n",
    "rows=1\n",
    "while rows <= n:\n",
    "    col=1\n",
    "    while col <= rows:\n",
    "        print(chr(nums+col-1),end=' ')\n",
    "        col+=1\n",
    "    print()\n",
    "    nums+=1\n",
    "    rows+=1\n",
    "        "
   ]
  },
  {
   "cell_type": "code",
   "execution_count": 152,
   "id": "2aec3ca7",
   "metadata": {},
   "outputs": [
    {
     "name": "stdout",
     "output_type": "stream",
     "text": [
      "Enter the Number for Rows and Coloumns :4\n",
      "D \n",
      "C D \n",
      "B C D \n",
      "A B C D \n"
     ]
    }
   ],
   "source": [
    "n=int(input(\"Enter the Number for Rows and Coloumns :\"))\n",
    "nums=ord('D')\n",
    "rows=1\n",
    "while rows <= n:\n",
    "    col=1\n",
    "    while col <= rows:\n",
    "        print(chr(nums+col-1),end=' ')\n",
    "        col+=1\n",
    "    print()\n",
    "    nums-=1\n",
    "    rows+=1\n",
    "        "
   ]
  },
  {
   "cell_type": "code",
   "execution_count": 41,
   "id": "fcf6f935",
   "metadata": {},
   "outputs": [
    {
     "name": "stdout",
     "output_type": "stream",
     "text": [
      "Enter the Matrix :29\n",
      "                                                        * \n",
      "                                                      * * \n",
      "                                                    * * * \n",
      "                                                  * * * * \n",
      "                                                * * * * * \n",
      "                                              * * * * * * \n",
      "                                            * * * * * * * \n",
      "                                          * * * * * * * * \n",
      "                                        * * * * * * * * * \n",
      "                                      * * * * * * * * * * \n",
      "                                    * * * * * * * * * * * \n",
      "                                  * * * * * * * * * * * * \n",
      "                                * * * * * * * * * * * * * \n",
      "                              * * * * * * * * * * * * * * \n",
      "                            * * * * * * * * * * * * * * * \n",
      "                          * * * * * * * * * * * * * * * * \n",
      "                        * * * * * * * * * * * * * * * * * \n",
      "                      * * * * * * * * * * * * * * * * * * \n",
      "                    * * * * * * * * * * * * * * * * * * * \n",
      "                  * * * * * * * * * * * * * * * * * * * * \n",
      "                * * * * * * * * * * * * * * * * * * * * * \n",
      "              * * * * * * * * * * * * * * * * * * * * * * \n",
      "            * * * * * * * * * * * * * * * * * * * * * * * \n",
      "          * * * * * * * * * * * * * * * * * * * * * * * * \n",
      "        * * * * * * * * * * * * * * * * * * * * * * * * * \n",
      "      * * * * * * * * * * * * * * * * * * * * * * * * * * \n",
      "    * * * * * * * * * * * * * * * * * * * * * * * * * * * \n",
      "  * * * * * * * * * * * * * * * * * * * * * * * * * * * * \n",
      "* * * * * * * * * * * * * * * * * * * * * * * * * * * * * \n"
     ]
    }
   ],
   "source": [
    "n=int(input(\"Enter the Matrix :\"))\n",
    "rows=1\n",
    "while rows <= n:\n",
    "    space=n-rows\n",
    "    while space:\n",
    "        print(' ',end=' ')\n",
    "        space-=1\n",
    "    col=1\n",
    "    while col <= rows:\n",
    "        print('*',end=' ')\n",
    "        col+=1\n",
    "    print()\n",
    "    rows+=1"
   ]
  },
  {
   "cell_type": "code",
   "execution_count": 45,
   "id": "4f8529c1",
   "metadata": {},
   "outputs": [
    {
     "name": "stdout",
     "output_type": "stream",
     "text": [
      "Enter the matrix :4\n",
      "      * \n",
      "    * * \n",
      "  * * * \n",
      "* * * * \n"
     ]
    }
   ],
   "source": [
    "n=int(input(\"Enter the matrix :\"))\n",
    "for rows in range(1,n+1):\n",
    "    for space in range(n-rows):\n",
    "        print(' ',end=' ')\n",
    "    for col in range(1,rows+1):\n",
    "        print('*',end=' ')\n",
    "    print()"
   ]
  },
  {
   "cell_type": "code",
   "execution_count": 52,
   "id": "ba8c2811",
   "metadata": {},
   "outputs": [
    {
     "name": "stdout",
     "output_type": "stream",
     "text": [
      "Enter the Matrix :4\n",
      "* * * * \n",
      "* * * \n",
      "* * \n",
      "* \n"
     ]
    }
   ],
   "source": [
    "n=int(input(\"Enter the Matrix :\"))\n",
    "rows=1\n",
    "while rows <= n:\n",
    "    col=1\n",
    "    while col <= n-rows+1:\n",
    "        print('*',end=' ')\n",
    "        col+=1\n",
    "    print()\n",
    "    rows+=1"
   ]
  },
  {
   "cell_type": "code",
   "execution_count": 54,
   "id": "b97c7267",
   "metadata": {},
   "outputs": [
    {
     "name": "stdout",
     "output_type": "stream",
     "text": [
      "Enter the Matrix :4\n",
      "* * * * \n",
      "* * * \n",
      "* * \n",
      "* \n"
     ]
    }
   ],
   "source": [
    "n=int(input(\"Enter the Matrix :\"))\n",
    "for rows in range(1,n+1):\n",
    "    for col in range(0,n-rows+1):\n",
    "        print('*',end=' ')\n",
    "    print()\n",
    "    "
   ]
  },
  {
   "cell_type": "code",
   "execution_count": 61,
   "id": "129d328d",
   "metadata": {},
   "outputs": [
    {
     "name": "stdout",
     "output_type": "stream",
     "text": [
      "enter the matrix :4\n",
      "* * * * \n",
      "  * * * \n",
      "    * * \n",
      "      * \n"
     ]
    }
   ],
   "source": [
    "n=int(input(\"enter the matrix :\"))\n",
    "rows=1\n",
    "while rows <= n:\n",
    "    spaces=rows-1\n",
    "    while spaces:\n",
    "        print(' ',end=' ')\n",
    "        spaces-=1\n",
    "    col=1\n",
    "    while col <= n-rows+1:\n",
    "        print('*',end=' ')\n",
    "        col+=1\n",
    "    print()\n",
    "    rows+=1"
   ]
  },
  {
   "cell_type": "code",
   "execution_count": 67,
   "id": "93b98980",
   "metadata": {},
   "outputs": [
    {
     "name": "stdout",
     "output_type": "stream",
     "text": [
      "Enter the Matrix size: 4\n",
      "* * * * \n",
      "  * * * \n",
      "    * * \n",
      "      * \n"
     ]
    }
   ],
   "source": [
    "n = int(input(\"Enter the Matrix size: \"))\n",
    "\n",
    "for rows in range(n, 0, -1):\n",
    "    for spaces in range(n - rows):\n",
    "        print('  ', end='')  # Print spaces\n",
    "    for col in range(rows):\n",
    "        print('* ', end='')  # Print asterisks\n",
    "    print()  # Move to the next line\n"
   ]
  },
  {
   "cell_type": "code",
   "execution_count": 74,
   "id": "f7fde67c",
   "metadata": {},
   "outputs": [
    {
     "name": "stdout",
     "output_type": "stream",
     "text": [
      "Enter the Matrix :4\n",
      "1 1 1 1 \n",
      "  2 2 2 \n",
      "    3 3 \n",
      "      4 \n"
     ]
    }
   ],
   "source": [
    "n=int(input(\"Enter the Matrix :\"))\n",
    "rows=1\n",
    "nums=1\n",
    "while rows <= n:\n",
    "    spaces=rows-1\n",
    "    while spaces:\n",
    "        print(' ',end=' ')\n",
    "        spaces-=1\n",
    "    col=1\n",
    "    while col <= n-rows+1:\n",
    "        print(nums+rows-1,end=' ')\n",
    "        col+=1\n",
    "    print()\n",
    "    rows+=1"
   ]
  },
  {
   "cell_type": "code",
   "execution_count": 83,
   "id": "bdf9b6a7",
   "metadata": {},
   "outputs": [
    {
     "name": "stdout",
     "output_type": "stream",
     "text": [
      "Enter the Matrix :4\n",
      "      1 \n",
      "    2 3 \n",
      "  4 5 6 \n",
      "7 8 9 10 \n"
     ]
    }
   ],
   "source": [
    "n=int(input(\"Enter the Matrix :\"))\n",
    "rows=1\n",
    "nums=1\n",
    "while rows <= n:\n",
    "    spaces=n-rows\n",
    "    while spaces:\n",
    "        print(' ',end=' ')\n",
    "        spaces-=1\n",
    "    col=1\n",
    "    while col <= rows:\n",
    "        print(nums,end=' ')\n",
    "        col+=1\n",
    "    nums+=1\n",
    "    print()\n",
    "    rows+=1"
   ]
  },
  {
   "cell_type": "code",
   "execution_count": 88,
   "id": "dadbecc7",
   "metadata": {},
   "outputs": [
    {
     "name": "stdout",
     "output_type": "stream",
     "text": [
      "Enter the Matrix :4\n",
      "      1 \n",
      "    2 3 \n",
      "  4 5 6 \n",
      "7 8 9 10 \n"
     ]
    }
   ],
   "source": [
    "n=int(input(\"Enter the Matrix :\"))\n",
    "nums=1\n",
    "for rows in range(1,n+1):\n",
    "    for spaces in range(1,n-rows+1):\n",
    "        print(' ',end=' ')\n",
    "        spaces-=1\n",
    "    for col in range(1,rows+1):\n",
    "        print(nums,end=' ')\n",
    "        nums+=1\n",
    "    print()\n",
    "        "
   ]
  },
  {
   "cell_type": "code",
   "execution_count": 27,
   "id": "878cdd07",
   "metadata": {},
   "outputs": [
    {
     "name": "stdout",
     "output_type": "stream",
     "text": [
      "Enter the Matrix :5\n",
      "        1 \n",
      "      1 2 * \n",
      "    1 2 3 * * \n",
      "  1 2 3 4 * * * \n",
      "1 2 3 4 5 * * * * \n"
     ]
    }
   ],
   "source": [
    "n=int(input(\"Enter the Matrix :\"))\n",
    "rows=1\n",
    "nums=1\n",
    "while rows <= n:\n",
    "    spaces=n-rows\n",
    "    while spaces:\n",
    "        print(' ',end=' ')\n",
    "        spaces-=1\n",
    "    col=1\n",
    "    while col <= rows:\n",
    "        print(col,end=' ')\n",
    "        col+=1\n",
    "    start=rows-1\n",
    "    while start:\n",
    "        print('*',end=' ')\n",
    "        start-=1\n",
    "    print()\n",
    "    rows+=1"
   ]
  },
  {
   "cell_type": "code",
   "execution_count": 61,
   "id": "9369a782",
   "metadata": {},
   "outputs": [
    {
     "name": "stdout",
     "output_type": "stream",
     "text": [
      "enter the matrix :5\n",
      "1 2 3 4 5 5 4 3 2 1 \n",
      "1 2 3 4 * * 4 3 2 1 \n",
      "1 2 3 * * * * 3 2 1 \n",
      "1 2 * * * * * * 2 1 \n",
      "1 * * * * * * * * 1 \n"
     ]
    }
   ],
   "source": [
    "n=int(input(\"enter the matrix :\"))\n",
    "rows=1\n",
    "nums=5\n",
    "while rows <= n:\n",
    "    col=1\n",
    "    while col <= n-rows+1:\n",
    "        print(col,end=' ')\n",
    "        col+=1\n",
    "    spaces=rows-1\n",
    "    while spaces:\n",
    "        print('*',end=' ')\n",
    "        spaces-=1\n",
    "    start=rows-1\n",
    "    while start:\n",
    "        print('*',end=' ')\n",
    "        start-=1\n",
    "    chalhat=n-rows+1\n",
    "    while chalhat:\n",
    "        print(chalhat,end=' ')\n",
    "        chalhat-=1\n",
    "    print()\n",
    "    rows+=1"
   ]
  },
  {
   "cell_type": "code",
   "execution_count": null,
   "id": "a4abe944",
   "metadata": {},
   "outputs": [],
   "source": []
  },
  {
   "cell_type": "code",
   "execution_count": null,
   "id": "2aee0056",
   "metadata": {},
   "outputs": [],
   "source": []
  }
 ],
 "metadata": {
  "kernelspec": {
   "display_name": "Python 3 (ipykernel)",
   "language": "python",
   "name": "python3"
  },
  "language_info": {
   "codemirror_mode": {
    "name": "ipython",
    "version": 3
   },
   "file_extension": ".py",
   "mimetype": "text/x-python",
   "name": "python",
   "nbconvert_exporter": "python",
   "pygments_lexer": "ipython3",
   "version": "3.9.13"
  }
 },
 "nbformat": 4,
 "nbformat_minor": 5
}
